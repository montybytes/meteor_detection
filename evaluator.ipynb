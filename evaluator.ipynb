{
 "cells": [
  {
   "cell_type": "code",
   "execution_count": 180,
   "metadata": {},
   "outputs": [],
   "source": [
    "import pandas as pd\n",
    "import lib.vision as vision\n",
    "\n",
    "from sample import Sample"
   ]
  },
  {
   "cell_type": "code",
   "execution_count": 181,
   "metadata": {},
   "outputs": [],
   "source": [
    "labels = pd.read_csv(\"dataset/labels.csv\")"
   ]
  },
  {
   "cell_type": "code",
   "execution_count": 182,
   "metadata": {},
   "outputs": [],
   "source": [
    "labels.drop(columns=[\"label_name\", \"image_width\", \"image_height\"], inplace=True)\n",
    "labels.rename({\"bbox_x\": \"x1\", \"bbox_y\": \"y1\"}, axis=1, inplace=True)"
   ]
  },
  {
   "cell_type": "code",
   "execution_count": 183,
   "metadata": {},
   "outputs": [],
   "source": [
    "labels[\"x2\"] = labels[\"x1\"] + labels[\"bbox_width\"]\n",
    "labels[\"y2\"] = labels[\"y1\"] + labels[\"bbox_height\"]"
   ]
  },
  {
   "cell_type": "code",
   "execution_count": 184,
   "metadata": {},
   "outputs": [],
   "source": [
    "labels.drop(columns=[\"bbox_width\", \"bbox_height\"], inplace=True)"
   ]
  },
  {
   "cell_type": "code",
   "execution_count": 185,
   "metadata": {},
   "outputs": [],
   "source": [
    "labels = labels[[\"image_name\", \"x1\", \"y1\", \"x2\", \"y2\"]]"
   ]
  },
  {
   "cell_type": "code",
   "execution_count": 186,
   "metadata": {},
   "outputs": [
    {
     "name": "stdout",
     "output_type": "stream",
     "text": [
      "<class 'pandas.core.frame.DataFrame'>\n",
      "RangeIndex: 1103 entries, 0 to 1102\n",
      "Data columns (total 5 columns):\n",
      " #   Column      Non-Null Count  Dtype \n",
      "---  ------      --------------  ----- \n",
      " 0   image_name  1103 non-null   object\n",
      " 1   x1          1103 non-null   int64 \n",
      " 2   y1          1103 non-null   int64 \n",
      " 3   x2          1103 non-null   int64 \n",
      " 4   y2          1103 non-null   int64 \n",
      "dtypes: int64(4), object(1)\n",
      "memory usage: 43.2+ KB\n"
     ]
    }
   ],
   "source": [
    "labels.info()"
   ]
  },
  {
   "cell_type": "code",
   "execution_count": 187,
   "metadata": {},
   "outputs": [],
   "source": [
    "train_results = pd.read_csv(\"out/train_result.csv\", header=None, names=labels.columns)\n",
    "val_results = pd.read_csv(\"out/val_result.csv\", header=None, names=labels.columns)"
   ]
  },
  {
   "cell_type": "code",
   "execution_count": 188,
   "metadata": {},
   "outputs": [],
   "source": [
    "estimates = pd.concat([train_results, val_results])"
   ]
  },
  {
   "cell_type": "code",
   "execution_count": 189,
   "metadata": {},
   "outputs": [
    {
     "name": "stdout",
     "output_type": "stream",
     "text": [
      "<class 'pandas.core.frame.DataFrame'>\n",
      "Index: 973 entries, 0 to 187\n",
      "Data columns (total 5 columns):\n",
      " #   Column      Non-Null Count  Dtype  \n",
      "---  ------      --------------  -----  \n",
      " 0   image_name  973 non-null    object \n",
      " 1   x1          962 non-null    float64\n",
      " 2   y1          962 non-null    float64\n",
      " 3   x2          962 non-null    float64\n",
      " 4   y2          962 non-null    float64\n",
      "dtypes: float64(4), object(1)\n",
      "memory usage: 45.6+ KB\n"
     ]
    }
   ],
   "source": [
    "estimates.info()"
   ]
  },
  {
   "cell_type": "code",
   "execution_count": 193,
   "metadata": {},
   "outputs": [],
   "source": [
    "ground_truths = [Sample(s[0], s[1], s[2], s[3], s[4]) for s in labels.to_numpy()]\n",
    "estimates = [Sample(s[0], s[1], s[2], s[3], s[4]) for s in estimates.to_numpy()]"
   ]
  },
  {
   "cell_type": "code",
   "execution_count": 196,
   "metadata": {},
   "outputs": [],
   "source": [
    "iou_threshold = 0.4"
   ]
  },
  {
   "cell_type": "code",
   "execution_count": 197,
   "metadata": {},
   "outputs": [],
   "source": [
    "true_positives = []\n",
    "\n",
    "for g_sample in ground_truths:\n",
    "    estimate_samples = [\n",
    "        e_sample for e_sample in estimates if e_sample.image_name == g_sample.image_name\n",
    "    ]\n",
    "    for e_sample in estimate_samples:\n",
    "        iou = vision.get_IoU(e_sample.bbox.points, g_sample.bbox.points)\n",
    "        if iou > 0 and iou >= iou_threshold:\n",
    "            true_positives.append(e_sample)"
   ]
  },
  {
   "cell_type": "code",
   "execution_count": 198,
   "metadata": {},
   "outputs": [],
   "source": [
    "# everything that was missed in the ground truth sample\n",
    "false_negatives = [\n",
    "    truth_sample for truth_sample in ground_truths if truth_sample not in true_positives\n",
    "]"
   ]
  },
  {
   "cell_type": "code",
   "execution_count": 199,
   "metadata": {},
   "outputs": [],
   "source": [
    "tp = len(true_positives)\n",
    "fn = len(false_negatives)\n",
    "fp = len(estimates) - tp"
   ]
  },
  {
   "cell_type": "code",
   "execution_count": 200,
   "metadata": {},
   "outputs": [],
   "source": [
    "precision = tp / (tp + fp)\n",
    "recall = tp / (tp + fn)\n",
    "f1 = (2 * precision * recall) / (precision + recall)"
   ]
  },
  {
   "cell_type": "code",
   "execution_count": 201,
   "metadata": {},
   "outputs": [
    {
     "name": "stdout",
     "output_type": "stream",
     "text": [
      "0.68448098663926 0.3764838892029395 0.4857768052516412\n"
     ]
    }
   ],
   "source": [
    "print(precision, recall, f1)"
   ]
  }
 ],
 "metadata": {
  "kernelspec": {
   "display_name": ".venv",
   "language": "python",
   "name": "python3"
  },
  "language_info": {
   "codemirror_mode": {
    "name": "ipython",
    "version": 3
   },
   "file_extension": ".py",
   "mimetype": "text/x-python",
   "name": "python",
   "nbconvert_exporter": "python",
   "pygments_lexer": "ipython3",
   "version": "3.9.6"
  }
 },
 "nbformat": 4,
 "nbformat_minor": 2
}
